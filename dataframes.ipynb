{
 "cells": [
  {
   "cell_type": "markdown",
   "id": "74667dfc",
   "metadata": {},
   "source": [
    "All the datasets loaded from the pydataset library will be pandas dataframes."
   ]
  },
  {
   "cell_type": "code",
   "execution_count": null,
   "id": "ba5b86c9",
   "metadata": {},
   "outputs": [],
   "source": [
    "from pydataset import data"
   ]
  },
  {
   "cell_type": "code",
   "execution_count": null,
   "id": "aa4d9e51",
   "metadata": {},
   "outputs": [],
   "source": [
    "# data('mpg', show_doc=True) # view the documentation for the dataset\n",
    "mpg = data('mpg') # load the dataset and store it in a variable"
   ]
  },
  {
   "cell_type": "markdown",
   "id": "451dacae",
   "metadata": {},
   "source": [
    "All the datasets loaded from the pydataset library will be pandas dataframes.\n",
    "\n",
    "Copy the code from the lesson to create a dataframe full of student grades.\n",
    "\n",
    "Create a column named passing_english that indicates whether each student has a passing grade in english.\n",
    "\n",
    "Sort the english grades by the passing_english column. How are duplicates handled?\n",
    "\n",
    "Sort the english grades first by passing_english and then by student name. All the students that are failing english should be first, and within the students that are failing english they should be ordered alphabetically. \n",
    "\n",
    "The same should be true for the students passing english. (Hint: you can pass a list to the .sort_values method)\n",
    "\n",
    "Sort the english grades first by passing_english, and then by the actual english grade, similar to how we did in the last step.\n",
    "\n",
    "Calculate each students overall grade and add it as a column on the dataframe. The overall grade is the average of the math, english, and reading grades."
   ]
  },
  {
   "cell_type": "code",
   "execution_count": null,
   "id": "81563de0",
   "metadata": {},
   "outputs": [],
   "source": []
  },
  {
   "cell_type": "markdown",
   "id": "2feaea52",
   "metadata": {},
   "source": [
    "Load the mpg dataset. Read the documentation for the dataset and use it for the following questions:\n",
    "\n",
    "How many rows and columns are there?\n",
    "\n",
    "What are the data types of each column?\n",
    "\n",
    "Summarize the dataframe with .info and .describe\n",
    "\n",
    "Rename the cty column to city.\n",
    "\n",
    "Rename the hwy column to highway.\n",
    "\n",
    "Do any cars have better city mileage than highway mileage?\n",
    "\n",
    "Create a column named mileage_difference this column should contain the difference between highway and city \n",
    "mileage for each car.\n",
    "\n",
    "Which car (or cars) has the highest mileage difference?\n",
    "\n",
    "Which compact class car has the lowest highway mileage? The best?\n",
    "\n",
    "Create a column named average_mileage that is the mean of the city and highway mileage.\n",
    "\n",
    "Which dodge car has the best average mileage? The worst?"
   ]
  },
  {
   "cell_type": "code",
   "execution_count": null,
   "id": "db348529",
   "metadata": {},
   "outputs": [],
   "source": []
  },
  {
   "cell_type": "markdown",
   "id": "eaf80b93",
   "metadata": {},
   "source": [
    "Load the Mammals dataset. Read the documentation for it, and use the data to answer these questions:\n",
    "\n",
    "How many rows and columns are there?\n",
    "\n",
    "What are the data types?\n",
    "\n",
    "Summarize the dataframe with .info and .describe\n",
    "\n",
    "What is the the weight of the fastest animal?\n",
    "\n",
    "What is the overal percentage of specials?\n",
    "\n",
    "How many animals are hoppers that are above the median speed? What percentage is this?"
   ]
  }
 ],
 "metadata": {
  "kernelspec": {
   "display_name": "Python 3 (ipykernel)",
   "language": "python",
   "name": "python3"
  },
  "language_info": {
   "codemirror_mode": {
    "name": "ipython",
    "version": 3
   },
   "file_extension": ".py",
   "mimetype": "text/x-python",
   "name": "python",
   "nbconvert_exporter": "python",
   "pygments_lexer": "ipython3",
   "version": "3.9.7"
  }
 },
 "nbformat": 4,
 "nbformat_minor": 5
}
